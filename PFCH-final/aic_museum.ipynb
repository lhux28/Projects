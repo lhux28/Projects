{
 "cells": [
  {
   "cell_type": "code",
   "execution_count": 2,
   "metadata": {},
   "outputs": [
    {
     "name": "stdout",
     "output_type": "stream",
     "text": [
      "Painting 1\n",
      "Vessel 23\n",
      "Basketry 22\n",
      "Miniature room 21\n",
      "Model 20\n",
      "Architectural fragment 19\n",
      "Print 18\n",
      "Performance Arts 17\n",
      "Installation 16\n",
      "Mixed Media 15\n",
      "Drawing and Watercolor 14\n",
      "Costume and Accessories 12\n",
      "Book 11\n",
      "Audio-Video 10\n",
      "Time Based Media 48\n",
      "Materials 47\n",
      "Equipment 46\n",
      "Archives (groupings) 45\n",
      "Medals 44\n",
      "Furnishings 42\n",
      "Prototypes 40\n",
      "Coverings and Hangings 38\n",
      "Glass 37\n",
      "Ceramics 36\n",
      "Metalwork 35\n",
      "Architectural Drawing 34\n",
      "Film, Video, New Media 33\n",
      "Graphic Design 32\n",
      "Design 31\n",
      "Miniature Painting 30\n",
      "Armor 29\n",
      "Arms 28\n",
      "Funerary Object 27\n",
      "Coin 26\n",
      "Religious/Ritual Object 24\n",
      "Digital Arts 13\n",
      "Decorative Arts 8\n",
      "Mask 7\n",
      "Furniture 6\n",
      "Textile 5\n",
      "Icon 4\n",
      "Sculpture 3\n",
      "Photograph 2\n",
      "non-art 43\n"
     ]
    }
   ],
   "source": [
    "import requests\n",
    "import json\n",
    "import time\n",
    "\n",
    "\n",
    "url = 'https://api.artic.edu/api/v1/artwork-types'\n",
    "params = {\n",
    "    'limit': 44,\n",
    "    # 'page':'2',\n",
    "    # 'date_start':'1900',h\n",
    "    # 'department_title':'Architecture and Design'\n",
    "    # 'subject_titles'\n",
    "\n",
    "}\n",
    "headers = {\n",
    "    'AIC-user-agent': 'lhux28@pratt.edu'\n",
    "}\n",
    "\n",
    "req = requests.get(url, params=params, headers=headers)\n",
    "data = req.json()\n",
    "\n",
    "# print(json.dumps(data, indent=4))\n",
    "\n",
    "dict = 0\n",
    "\n",
    "while dict < params['limit']:\n",
    "    time.sleep(0.25)\n",
    "    loop_title = data['data'][dict]['title']\n",
    "    loop_id = data['data'][dict]['id']\n",
    "    \n",
    "    print(loop_title, loop_id)\n",
    "\n",
    "    dict += 1"
   ]
  },
  {
   "cell_type": "markdown",
   "metadata": {},
   "source": [
    "need to go through each page\n",
    "collect contents of page\n",
    "go to next page\n",
    "\n",
    "Design items: 191 total\n",
    "Furniture items: 142 total\n",
    "\n",
    "Total should be 333 items "
   ]
  },
  {
   "cell_type": "code",
   "execution_count": 22,
   "metadata": {},
   "outputs": [],
   "source": [
    "#querying for Design items\n",
    "\n",
    "import time\n",
    "chair_list = []\n",
    "\n",
    "page_num = 1\n",
    "\n",
    "while page_num <= 5:\n",
    "    time.sleep(0.25)\n",
    "    url = f'https://api.artic.edu/api/v1/artworks/search?q=chair&query[term][artwork_type_id]=31&fields=id,api_link,medium_display,title,artist_display,date_display,date_start,main_reference_number,medium_display,provenance_text,image_id,artwork_type_title&page={page_num}'\n",
    "    params = {\n",
    "        'limit': 50,\n",
    "        # 'current_page': 1,\n",
    "    }\n",
    "    headers = {\n",
    "        'AIC-user-agent': 'lhux28@pratt.edu'\n",
    "    }\n",
    "\n",
    "    req_design = requests.get(url, params=params, headers=headers)\n",
    "    aic_data = req_design.json()\n",
    "    # aic_json = json.dumps(aic_data, indent=4)\n",
    "    \n",
    "    # print(aic_json)\n",
    "    # print(json.dumps(aic_data['data'],indent=4))\n",
    "\n",
    "    item_records = aic_data['data']\n",
    "    for record in item_records:\n",
    "        chair_list.append(record)\n",
    "   \n",
    "    # if page_num == 1:\n",
    "    #     with open('/Users/liwen/Desktop/PFCH/Final/aic_chairs.json', 'w') as file:\n",
    "    #         file.write(aic_json)\n",
    "    # else:\n",
    "    #     with open('/Users/liwen/Desktop/PFCH/Final/aic_chairs.json', 'a') as file:\n",
    "    #         file.write(aic_json)\n",
    "\n",
    "    page_num += 1\n",
    "\n",
    "# print(json.dumps(chair_list, indent=4))\n",
    "# print(len(chair_list))\n"
   ]
  },
  {
   "cell_type": "code",
   "execution_count": 23,
   "metadata": {},
   "outputs": [
    {
     "name": "stdout",
     "output_type": "stream",
     "text": [
      "191\n"
     ]
    }
   ],
   "source": [
    "print(len(chair_list))"
   ]
  },
  {
   "cell_type": "code",
   "execution_count": 24,
   "metadata": {},
   "outputs": [
    {
     "name": "stdout",
     "output_type": "stream",
     "text": [
      "333\n"
     ]
    }
   ],
   "source": [
    "#querying for furn items\n",
    "\n",
    "page_number = 1\n",
    "\n",
    "\n",
    "while page_number <= 3:\n",
    "    url = f'https://api.artic.edu/api/v1/artworks/search?q=chair&query[term][artwork_type_id]=6&fields=id,api_link,medium_display,title,artist_display,date_display,date_start,main_reference_number,medium_display,provenance_text,image_id,artwork_type_title&page={page_number}'\n",
    "    params = {\n",
    "        'limit': 50\n",
    "        # 'current_page': 1,\n",
    "    }\n",
    "    headers = {\n",
    "        'AIC-user-agent': 'lhux28@pratt.edu'\n",
    "    }\n",
    "\n",
    "    req_furn = requests.get(url, params=params, headers=headers)\n",
    "    aic_furn_data = req_furn.json()\n",
    "    # aic_furn_json = json.dumps(aic_furn_data, indent=4)\n",
    "\n",
    "    # print(aic_furn_json)\n",
    "\n",
    "    item_records = aic_furn_data['data']\n",
    "    for record in item_records:\n",
    "        chair_list.append(record)\n",
    "    \n",
    "    # with open('/Users/liwen/Desktop/PFCH/Final/aic_chairs.json', 'a') as file:\n",
    "    #     file.write(aic_furn_json)\n",
    "\n",
    "    page_number += 1\n",
    "\n",
    "# print(json.dumps(chair_list, indent=4))\n",
    "print(len(chair_list))\n",
    "\n",
    "\n",
    "with open('/Users/liwen/Desktop/PFCH/Final/aic_chairs.json', 'w') as file:\n",
    "    file.write(json.dumps(chair_list, indent=4))"
   ]
  }
 ],
 "metadata": {
  "kernelspec": {
   "display_name": "Python 3",
   "language": "python",
   "name": "python3"
  },
  "language_info": {
   "codemirror_mode": {
    "name": "ipython",
    "version": 3
   },
   "file_extension": ".py",
   "mimetype": "text/x-python",
   "name": "python",
   "nbconvert_exporter": "python",
   "pygments_lexer": "ipython3",
   "version": "3.11.5"
  }
 },
 "nbformat": 4,
 "nbformat_minor": 2
}
