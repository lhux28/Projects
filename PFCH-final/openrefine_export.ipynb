{
 "cells": [
  {
   "cell_type": "code",
   "execution_count": 2,
   "metadata": {},
   "outputs": [],
   "source": [
    "# convert my CSV openrefine file back into a JSON file\n",
    "\n",
    "import csv\n",
    "import json\n",
    "from collections import defaultdict\n",
    "\n",
    "csv_file = '/Users/liwen/Downloads/PFCH-data-cleanup-attempt-3(1).csv'\n",
    "json_file = '/Users/liwen/Documents/Github/Projects/PFCH-final/master_dataset_openrefine_export.json'\n",
    "\n",
    "data = defaultdict(list)\n",
    "\n",
    "with open(csv_file, 'r') as csv_file:\n",
    "    csv_reader = csv.DictReader(csv_file)\n",
    "    # print(csv_reader.fieldnames)\n",
    "    for row in csv_reader:\n",
    "        artist = row['designer']\n",
    "        date = row['date 1']\n",
    "        medium = row['medium']\n",
    "        title = row['title']\n",
    "        museum = row['museum']\n",
    "\n",
    "        entry = {\n",
    "            'artist': artist,\n",
    "            'date': date,\n",
    "            'medium': medium,\n",
    "            'title': title,\n",
    "            'museum': museum\n",
    "        }\n",
    "\n",
    "        data[(artist, date, title)].append(entry)\n",
    "\n",
    "result = [{'artist': key[0], 'date': key[1], 'medium': [entry['medium'] for entry in entries],\n",
    "           'title': key[2], 'museum': entries[0]['museum']} for key, entries in data.items()]\n",
    "\n",
    "with open(json_file, 'w') as json_file:\n",
    "    json.dump(result, json_file, indent=4)"
   ]
  },
  {
   "cell_type": "code",
   "execution_count": 17,
   "metadata": {},
   "outputs": [
    {
     "name": "stdout",
     "output_type": "stream",
     "text": [
      "325\n",
      "733\n"
     ]
    }
   ],
   "source": [
    "#  Clean up entries\n",
    "#  replace blanks in title with 'untitled'\n",
    "#  take out 'medium' blanks created during Openrefine \n",
    "\n",
    "import re\n",
    "\n",
    "local_file = '/Users/liwen/Documents/Github/Projects/PFCH-final/master_dataset_openrefine_export.json'\n",
    "\n",
    "with open(local_file, 'r') as file:\n",
    "    file_reader = json.load(file)\n",
    "    # print(file_reader)\n",
    "# print(len(file_reader))\n",
    "\n",
    "for parser in file_reader:\n",
    "    if parser['title'] == \"\":\n",
    "        parser['title'] = \"untitled\"\n",
    "    # print(parser['title'])\n",
    "# print(file_reader)\n",
    "\n",
    "for parser in file_reader:\n",
    "    # print(parser['medium'])\n",
    "    new_medium_list = []\n",
    "    mediums = parser['medium']\n",
    "    for medium in mediums:\n",
    "        if medium != \"\":\n",
    "            new_medium_list.append(medium)\n",
    "    # print(new_medium_list)\n",
    "    parser['medium'] = new_medium_list\n",
    "# print(json.dumps(file_reader, indent=4))\n",
    "\n",
    "medium_counter = []\n",
    "for parser in file_reader:\n",
    "    # print(parser['medium'])\n",
    "    mediums = parser['medium']\n",
    "    for counter in mediums:\n",
    "        if counter not in medium_counter:\n",
    "            medium_counter.append(counter)\n",
    "print(len(medium_counter))\n",
    "print(len(file_reader))"
   ]
  },
  {
   "cell_type": "code",
   "execution_count": 1,
   "metadata": {},
   "outputs": [
    {
     "ename": "NameError",
     "evalue": "name 'json' is not defined",
     "output_type": "error",
     "traceback": [
      "\u001b[0;31m---------------------------------------------------------------------------\u001b[0m",
      "\u001b[0;31mNameError\u001b[0m                                 Traceback (most recent call last)",
      "Cell \u001b[0;32mIn[1], line 1\u001b[0m\n\u001b[0;32m----> 1\u001b[0m \u001b[38;5;28mprint\u001b[39m(\u001b[43mjson\u001b[49m\u001b[38;5;241m.\u001b[39mdumps(file_reader,indent\u001b[38;5;241m=\u001b[39m\u001b[38;5;241m4\u001b[39m))\n\u001b[1;32m      3\u001b[0m \u001b[38;5;28;01mwith\u001b[39;00m \u001b[38;5;28mopen\u001b[39m(\u001b[38;5;124m'\u001b[39m\u001b[38;5;124m/Users/liwen/Documents/Github/Projects/PFCH-final/master_dataset_openrefine_export.json\u001b[39m\u001b[38;5;124m'\u001b[39m, \u001b[38;5;124m'\u001b[39m\u001b[38;5;124mw\u001b[39m\u001b[38;5;124m'\u001b[39m) \u001b[38;5;28;01mas\u001b[39;00m write_file:\n\u001b[1;32m      4\u001b[0m     json\u001b[38;5;241m.\u001b[39mdump(file_reader, write_file, indent\u001b[38;5;241m=\u001b[39m\u001b[38;5;241m4\u001b[39m)\n",
      "\u001b[0;31mNameError\u001b[0m: name 'json' is not defined"
     ]
    }
   ],
   "source": [
    "#  Create final file ready to import in Tableau\n",
    "\n",
    "print(json.dumps(file_reader,indent=4))\n",
    "\n",
    "with open('/Users/liwen/Documents/Github/Projects/PFCH-final/master_dataset_openrefine_export.json', 'w') as write_file:\n",
    "    json.dump(file_reader, write_file, indent=4)"
   ]
  }
 ],
 "metadata": {
  "kernelspec": {
   "display_name": "Python 3",
   "language": "python",
   "name": "python3"
  },
  "language_info": {
   "codemirror_mode": {
    "name": "ipython",
    "version": 3
   },
   "file_extension": ".py",
   "mimetype": "text/x-python",
   "name": "python",
   "nbconvert_exporter": "python",
   "pygments_lexer": "ipython3",
   "version": "3.11.5"
  }
 },
 "nbformat": 4,
 "nbformat_minor": 2
}
